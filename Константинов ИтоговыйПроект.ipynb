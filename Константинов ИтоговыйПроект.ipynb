{
 "cells": [
  {
   "cell_type": "markdown",
   "metadata": {},
   "source": [
    "\n",
    "# Описание проекта\n",
    "\n",
    "Вам предоставлена выгрузка заказов из CRM компании, занимающейся В2В-продажами.  На основе\n",
    "этих данных вам нужно подготовить дашборд для директора компании, который даст общее\n",
    "понимание ситуации с продажами, наглядно покажет ответы на вопросы:\n",
    "\n",
    "1. Как менеджеры выполняют план продаж?\n",
    "2. Какова помесячная динамика выполнения плана, есть ли сезонные «просадки»?\n",
    "3. Какова география продаж, какие регионы самые доходные?\n",
    "4. Как влияет канал продаж на выполнение плана, конверсию, длительность сделки?\n",
    "5. Какие товарные категории пользуются спросом (по числу клиентов) и по продажам?\n",
    "\n",
    "Дашборд должен дать информацию для принятия решений:\n",
    "Профилировать ли менеджеров по товарным категориям или каналам продаж (где они лучше закрывают сделки, выполняют план)\n",
    "Расширять самые доходные каналы продаж, регионы, где есть высокий спрос\n",
    "\n",
    "\n",
    "Задание\n",
    "\n",
    "Откройте файл с данными и изучите общую информацию\n",
    "Подготовьте данные\n",
    "Проведите исследовательский анализ данных\n",
    "Составьте портрет менеджера каждого региона\n",
    "Проведите исследование статистических показателей\n",
    "Проверьте гипотезы\n",
    "Напишите общий вывод\n"
   ]
  },
  {
   "cell_type": "markdown",
   "metadata": {},
   "source": [
    "# Загрузка данных, изучение общей информации"
   ]
  },
  {
   "cell_type": "code",
   "execution_count": 1,
   "metadata": {},
   "outputs": [
    {
     "name": "stdout",
     "output_type": "stream",
     "text": [
      "<class 'pandas.core.frame.DataFrame'>\n",
      "RangeIndex: 116 entries, 0 to 115\n",
      "Data columns (total 13 columns):\n",
      " #   Column                        Non-Null Count  Dtype         \n",
      "---  ------                        --------------  -----         \n",
      " 0   Номер заказа                  116 non-null    int64         \n",
      " 1   Канал продаж                  116 non-null    object        \n",
      " 2   Продуктовый сегмент           116 non-null    object        \n",
      " 3   Менеджер                      116 non-null    object        \n",
      " 4   Название заказа               116 non-null    object        \n",
      " 5   Продавец                      116 non-null    object        \n",
      " 6   Город                         116 non-null    object        \n",
      " 7   Продажи факт, тыс.руб         116 non-null    int64         \n",
      " 8   Продажи план, тыс.руб         116 non-null    int64         \n",
      " 9   Дата сделки                   116 non-null    datetime64[ns]\n",
      " 10  Дата оплаты                   93 non-null     datetime64[ns]\n",
      " 11  Дней между сделкой и оплатой  116 non-null    object        \n",
      " 12  Статус                        116 non-null    object        \n",
      "dtypes: datetime64[ns](2), int64(3), object(8)\n",
      "memory usage: 11.9+ KB\n"
     ]
    }
   ],
   "source": [
    "import pandas as pd\n",
    "data = pd.read_excel('data.xlsx')\n",
    "data.info()"
   ]
  },
  {
   "cell_type": "code",
   "execution_count": 2,
   "metadata": {},
   "outputs": [
    {
     "data": {
      "text/html": [
       "<div>\n",
       "<style scoped>\n",
       "    .dataframe tbody tr th:only-of-type {\n",
       "        vertical-align: middle;\n",
       "    }\n",
       "\n",
       "    .dataframe tbody tr th {\n",
       "        vertical-align: top;\n",
       "    }\n",
       "\n",
       "    .dataframe thead th {\n",
       "        text-align: right;\n",
       "    }\n",
       "</style>\n",
       "<table border=\"1\" class=\"dataframe\">\n",
       "  <thead>\n",
       "    <tr style=\"text-align: right;\">\n",
       "      <th></th>\n",
       "      <th>Номер заказа</th>\n",
       "      <th>Канал продаж</th>\n",
       "      <th>Продуктовый сегмент</th>\n",
       "      <th>Менеджер</th>\n",
       "      <th>Название заказа</th>\n",
       "      <th>Продавец</th>\n",
       "      <th>Город</th>\n",
       "      <th>Продажи факт, тыс.руб</th>\n",
       "      <th>Продажи план, тыс.руб</th>\n",
       "      <th>Дата сделки</th>\n",
       "      <th>Дата оплаты</th>\n",
       "      <th>Дней между сделкой и оплатой</th>\n",
       "      <th>Статус</th>\n",
       "    </tr>\n",
       "  </thead>\n",
       "  <tbody>\n",
       "    <tr>\n",
       "      <th>0</th>\n",
       "      <td>7290</td>\n",
       "      <td>Рекомендация</td>\n",
       "      <td>Ткань и аксессуары</td>\n",
       "      <td>С. Милер</td>\n",
       "      <td>NAM SUNG</td>\n",
       "      <td>Айсберг</td>\n",
       "      <td>Санкт-Петербург</td>\n",
       "      <td>300</td>\n",
       "      <td>500</td>\n",
       "      <td>2020-02-03</td>\n",
       "      <td>2020-03-25</td>\n",
       "      <td>52</td>\n",
       "      <td>Закрыто</td>\n",
       "    </tr>\n",
       "    <tr>\n",
       "      <th>1</th>\n",
       "      <td>7291</td>\n",
       "      <td>Рекомендация</td>\n",
       "      <td>Ткань и аксессуары</td>\n",
       "      <td>С. Милер</td>\n",
       "      <td>CP Ткань</td>\n",
       "      <td>Айсберг</td>\n",
       "      <td>Санкт-Петербург</td>\n",
       "      <td>450</td>\n",
       "      <td>500</td>\n",
       "      <td>2020-03-22</td>\n",
       "      <td>2020-04-05</td>\n",
       "      <td>15</td>\n",
       "      <td>Закрыто</td>\n",
       "    </tr>\n",
       "    <tr>\n",
       "      <th>2</th>\n",
       "      <td>7436</td>\n",
       "      <td>Рекомендация</td>\n",
       "      <td>Ткань и аксессуары</td>\n",
       "      <td>С. Милер</td>\n",
       "      <td>UNIZIN COMPANY</td>\n",
       "      <td>Айсберг</td>\n",
       "      <td>Санкт-Петербург</td>\n",
       "      <td>0</td>\n",
       "      <td>500</td>\n",
       "      <td>2020-03-23</td>\n",
       "      <td>NaT</td>\n",
       "      <td></td>\n",
       "      <td>В процессе</td>\n",
       "    </tr>\n",
       "    <tr>\n",
       "      <th>3</th>\n",
       "      <td>7484</td>\n",
       "      <td>Рекомендация</td>\n",
       "      <td>Ткань и аксессуары</td>\n",
       "      <td>С. Милер</td>\n",
       "      <td>NAM SUNG</td>\n",
       "      <td>Айсберг</td>\n",
       "      <td>Санкт-Петербург</td>\n",
       "      <td>500</td>\n",
       "      <td>500</td>\n",
       "      <td>2020-03-04</td>\n",
       "      <td>2020-03-04</td>\n",
       "      <td>1</td>\n",
       "      <td>Закрыто</td>\n",
       "    </tr>\n",
       "    <tr>\n",
       "      <th>4</th>\n",
       "      <td>7040</td>\n",
       "      <td>Холодный звонок</td>\n",
       "      <td>Электронные устройства</td>\n",
       "      <td>М. Баили</td>\n",
       "      <td>Электронные устройства</td>\n",
       "      <td>Alen.com</td>\n",
       "      <td>Магнитогорск</td>\n",
       "      <td>100</td>\n",
       "      <td>1000</td>\n",
       "      <td>2020-02-19</td>\n",
       "      <td>2020-05-15</td>\n",
       "      <td>87</td>\n",
       "      <td>Закрыто</td>\n",
       "    </tr>\n",
       "  </tbody>\n",
       "</table>\n",
       "</div>"
      ],
      "text/plain": [
       "   Номер заказа     Канал продаж     Продуктовый сегмент  Менеджер  \\\n",
       "0          7290     Рекомендация      Ткань и аксессуары  С. Милер   \n",
       "1          7291     Рекомендация      Ткань и аксессуары  С. Милер   \n",
       "2          7436     Рекомендация      Ткань и аксессуары  С. Милер   \n",
       "3          7484     Рекомендация      Ткань и аксессуары  С. Милер   \n",
       "4          7040  Холодный звонок  Электронные устройства  М. Баили   \n",
       "\n",
       "          Название заказа  Продавец            Город  Продажи факт, тыс.руб  \\\n",
       "0                NAM SUNG  Айсберг   Санкт-Петербург                    300   \n",
       "1                CP Ткань  Айсберг   Санкт-Петербург                    450   \n",
       "2          UNIZIN COMPANY  Айсберг   Санкт-Петербург                      0   \n",
       "3                NAM SUNG  Айсберг   Санкт-Петербург                    500   \n",
       "4  Электронные устройства  Alen.com     Магнитогорск                    100   \n",
       "\n",
       "   Продажи план, тыс.руб Дата сделки Дата оплаты Дней между сделкой и оплатой  \\\n",
       "0                    500  2020-02-03  2020-03-25                           52   \n",
       "1                    500  2020-03-22  2020-04-05                           15   \n",
       "2                    500  2020-03-23         NaT                                \n",
       "3                    500  2020-03-04  2020-03-04                            1   \n",
       "4                   1000  2020-02-19  2020-05-15                           87   \n",
       "\n",
       "       Статус  \n",
       "0     Закрыто  \n",
       "1     Закрыто  \n",
       "2  В процессе  \n",
       "3     Закрыто  \n",
       "4     Закрыто  "
      ]
     },
     "execution_count": 2,
     "metadata": {},
     "output_type": "execute_result"
    }
   ],
   "source": [
    "data.head(5)"
   ]
  },
  {
   "cell_type": "markdown",
   "metadata": {},
   "source": [
    "# Подготовка данных\n",
    "\n",
    "Замените названия столбцов при необходимости (приведите к нижнему регистру); Преобразуйте данные в нужные типы. Опишите, в каких столбцах заменили тип данных и почему; Обработайте пропуски при необходимости: Объясните, почему заполнили пропуски определённым образом или почему не стали это делать; Опишите причины, которые могли привести к пропускам; Посчитайте суммарные фактические продажи по всем городам и запишите их в отдельный столбец."
   ]
  },
  {
   "cell_type": "markdown",
   "metadata": {},
   "source": [
    "1. Замена названий столбцов.\n",
    "Видно, что названия не соответствуют привычному виду, приводим их к нижнему регистру, вместо пробелов ставим нижнее подчеркивание, а в названиях с запятыми убираем их. "
   ]
  },
  {
   "cell_type": "code",
   "execution_count": 3,
   "metadata": {},
   "outputs": [
    {
     "data": {
      "text/plain": [
       "Index(['Номер заказа', 'Канал продаж', 'Продуктовый сегмент', 'Менеджер',\n",
       "       'Название заказа', 'Продавец', 'Город', 'Продажи факт, тыс.руб',\n",
       "       'Продажи план, тыс.руб', 'Дата сделки', 'Дата оплаты',\n",
       "       'Дней между сделкой и оплатой', 'Статус'],\n",
       "      dtype='object')"
      ]
     },
     "execution_count": 3,
     "metadata": {},
     "output_type": "execute_result"
    }
   ],
   "source": [
    "data.columns"
   ]
  },
  {
   "cell_type": "code",
   "execution_count": 4,
   "metadata": {},
   "outputs": [],
   "source": [
    "new_columns = []\n",
    "for column in data.columns:\n",
    "    new_columns.append(column.lower().replace(' ', '_'))\n",
    "data.columns = new_columns"
   ]
  },
  {
   "cell_type": "code",
   "execution_count": 5,
   "metadata": {},
   "outputs": [],
   "source": [
    "data.rename(columns = {'продажи_факт,_тыс.руб' : 'продажи_факт_тыс.руб', 'продажи_план,_тыс.руб' : 'продажи_план_тыс.руб'}, inplace = True)"
   ]
  },
  {
   "cell_type": "code",
   "execution_count": 6,
   "metadata": {},
   "outputs": [
    {
     "data": {
      "text/plain": [
       "Index(['номер_заказа', 'канал_продаж', 'продуктовый_сегмент', 'менеджер',\n",
       "       'название_заказа', 'продавец', 'город', 'продажи_факт_тыс.руб',\n",
       "       'продажи_план_тыс.руб', 'дата_сделки', 'дата_оплаты',\n",
       "       'дней_между_сделкой_и_оплатой', 'статус'],\n",
       "      dtype='object')"
      ]
     },
     "execution_count": 6,
     "metadata": {},
     "output_type": "execute_result"
    }
   ],
   "source": [
    "data.columns"
   ]
  },
  {
   "cell_type": "markdown",
   "metadata": {},
   "source": [
    "2. Проверка на пропущенные значения. Видно, что пропущенные значения находятся в столбце \"дата оплаты\". Так как сделка состоялась и нам нужен анализ выполнения плана продаж в целом, не корректно было бы удалять строки с пропущенными значениями в этом столбце, потому что они не дают главную характеристику по продажам. Пропущенные значения могут быть связаны с техническими ошибками, ошибками ввода данных,  отсутствием информации по данному пункту. Поэтому заполняем пропущенные значения нулями в формате даты."
   ]
  },
  {
   "cell_type": "code",
   "execution_count": 7,
   "metadata": {},
   "outputs": [
    {
     "data": {
      "text/plain": [
       "номер_заказа                     0\n",
       "канал_продаж                     0\n",
       "продуктовый_сегмент              0\n",
       "менеджер                         0\n",
       "название_заказа                  0\n",
       "продавец                         0\n",
       "город                            0\n",
       "продажи_факт_тыс.руб             0\n",
       "продажи_план_тыс.руб             0\n",
       "дата_сделки                      0\n",
       "дата_оплаты                     23\n",
       "дней_между_сделкой_и_оплатой     0\n",
       "статус                           0\n",
       "dtype: int64"
      ]
     },
     "execution_count": 7,
     "metadata": {},
     "output_type": "execute_result"
    }
   ],
   "source": [
    "data.isna().sum()"
   ]
  },
  {
   "cell_type": "code",
   "execution_count": 8,
   "metadata": {},
   "outputs": [],
   "source": [
    "data['дата_оплаты'] = data['дата_оплаты'].fillna('0000-00-00')"
   ]
  },
  {
   "cell_type": "markdown",
   "metadata": {},
   "source": [
    "3. Замена типов данных. После заполнения пропущенных значений в столбце \"дата оплаты\", тип данных в нём изменился. Поменяем обратно на тип данных даты для того, чтобы в последующем можно было проводить различные операции в соответствии с этим типом данных, например смотреть промежуточные результаты. Также поменяем тип данных в столбце \"дней_между_сделкой_и_оплатой\", чтобы можно было проводить со значениями в этом слобце математические операции."
   ]
  },
  {
   "cell_type": "code",
   "execution_count": 9,
   "metadata": {},
   "outputs": [
    {
     "name": "stdout",
     "output_type": "stream",
     "text": [
      "<class 'pandas.core.frame.DataFrame'>\n",
      "RangeIndex: 116 entries, 0 to 115\n",
      "Data columns (total 13 columns):\n",
      " #   Column                        Non-Null Count  Dtype         \n",
      "---  ------                        --------------  -----         \n",
      " 0   номер_заказа                  116 non-null    int64         \n",
      " 1   канал_продаж                  116 non-null    object        \n",
      " 2   продуктовый_сегмент           116 non-null    object        \n",
      " 3   менеджер                      116 non-null    object        \n",
      " 4   название_заказа               116 non-null    object        \n",
      " 5   продавец                      116 non-null    object        \n",
      " 6   город                         116 non-null    object        \n",
      " 7   продажи_факт_тыс.руб          116 non-null    int64         \n",
      " 8   продажи_план_тыс.руб          116 non-null    int64         \n",
      " 9   дата_сделки                   116 non-null    datetime64[ns]\n",
      " 10  дата_оплаты                   116 non-null    object        \n",
      " 11  дней_между_сделкой_и_оплатой  116 non-null    object        \n",
      " 12  статус                        116 non-null    object        \n",
      "dtypes: datetime64[ns](1), int64(3), object(9)\n",
      "memory usage: 11.9+ KB\n"
     ]
    }
   ],
   "source": [
    "data.info()"
   ]
  },
  {
   "cell_type": "code",
   "execution_count": 10,
   "metadata": {},
   "outputs": [],
   "source": [
    "data['дата_оплаты'] = pd.to_datetime(data['дата_оплаты'], errors = 'coerce')\n",
    "data['дней_между_сделкой_и_оплатой'] = pd.to_numeric(data['дней_между_сделкой_и_оплатой'], errors = 'coerce')"
   ]
  },
  {
   "cell_type": "code",
   "execution_count": 11,
   "metadata": {},
   "outputs": [
    {
     "name": "stdout",
     "output_type": "stream",
     "text": [
      "<class 'pandas.core.frame.DataFrame'>\n",
      "RangeIndex: 116 entries, 0 to 115\n",
      "Data columns (total 13 columns):\n",
      " #   Column                        Non-Null Count  Dtype         \n",
      "---  ------                        --------------  -----         \n",
      " 0   номер_заказа                  116 non-null    int64         \n",
      " 1   канал_продаж                  116 non-null    object        \n",
      " 2   продуктовый_сегмент           116 non-null    object        \n",
      " 3   менеджер                      116 non-null    object        \n",
      " 4   название_заказа               116 non-null    object        \n",
      " 5   продавец                      116 non-null    object        \n",
      " 6   город                         116 non-null    object        \n",
      " 7   продажи_факт_тыс.руб          116 non-null    int64         \n",
      " 8   продажи_план_тыс.руб          116 non-null    int64         \n",
      " 9   дата_сделки                   116 non-null    datetime64[ns]\n",
      " 10  дата_оплаты                   93 non-null     datetime64[ns]\n",
      " 11  дней_между_сделкой_и_оплатой  93 non-null     float64       \n",
      " 12  статус                        116 non-null    object        \n",
      "dtypes: datetime64[ns](2), float64(1), int64(3), object(7)\n",
      "memory usage: 11.9+ KB\n"
     ]
    }
   ],
   "source": [
    "data.info()"
   ]
  },
  {
   "cell_type": "markdown",
   "metadata": {},
   "source": [
    "4. Подсчет суммарных фактических продаж по каждому городу"
   ]
  },
  {
   "cell_type": "code",
   "execution_count": 12,
   "metadata": {},
   "outputs": [],
   "source": [
    "data['суммарные_фактические_продажи'] = data.groupby('город')['продажи_факт_тыс.руб'].transform('sum')"
   ]
  },
  {
   "cell_type": "code",
   "execution_count": 13,
   "metadata": {},
   "outputs": [
    {
     "data": {
      "text/html": [
       "<div>\n",
       "<style scoped>\n",
       "    .dataframe tbody tr th:only-of-type {\n",
       "        vertical-align: middle;\n",
       "    }\n",
       "\n",
       "    .dataframe tbody tr th {\n",
       "        vertical-align: top;\n",
       "    }\n",
       "\n",
       "    .dataframe thead th {\n",
       "        text-align: right;\n",
       "    }\n",
       "</style>\n",
       "<table border=\"1\" class=\"dataframe\">\n",
       "  <thead>\n",
       "    <tr style=\"text-align: right;\">\n",
       "      <th></th>\n",
       "      <th>номер_заказа</th>\n",
       "      <th>канал_продаж</th>\n",
       "      <th>продуктовый_сегмент</th>\n",
       "      <th>менеджер</th>\n",
       "      <th>название_заказа</th>\n",
       "      <th>продавец</th>\n",
       "      <th>город</th>\n",
       "      <th>продажи_факт_тыс.руб</th>\n",
       "      <th>продажи_план_тыс.руб</th>\n",
       "      <th>дата_сделки</th>\n",
       "      <th>дата_оплаты</th>\n",
       "      <th>дней_между_сделкой_и_оплатой</th>\n",
       "      <th>статус</th>\n",
       "      <th>суммарные_фактические_продажи</th>\n",
       "    </tr>\n",
       "  </thead>\n",
       "  <tbody>\n",
       "    <tr>\n",
       "      <th>0</th>\n",
       "      <td>7290</td>\n",
       "      <td>Рекомендация</td>\n",
       "      <td>Ткань и аксессуары</td>\n",
       "      <td>С. Милер</td>\n",
       "      <td>NAM SUNG</td>\n",
       "      <td>Айсберг</td>\n",
       "      <td>Санкт-Петербург</td>\n",
       "      <td>300</td>\n",
       "      <td>500</td>\n",
       "      <td>2020-02-03</td>\n",
       "      <td>2020-03-25</td>\n",
       "      <td>52.0</td>\n",
       "      <td>Закрыто</td>\n",
       "      <td>1370</td>\n",
       "    </tr>\n",
       "    <tr>\n",
       "      <th>1</th>\n",
       "      <td>7291</td>\n",
       "      <td>Рекомендация</td>\n",
       "      <td>Ткань и аксессуары</td>\n",
       "      <td>С. Милер</td>\n",
       "      <td>CP Ткань</td>\n",
       "      <td>Айсберг</td>\n",
       "      <td>Санкт-Петербург</td>\n",
       "      <td>450</td>\n",
       "      <td>500</td>\n",
       "      <td>2020-03-22</td>\n",
       "      <td>2020-04-05</td>\n",
       "      <td>15.0</td>\n",
       "      <td>Закрыто</td>\n",
       "      <td>1370</td>\n",
       "    </tr>\n",
       "    <tr>\n",
       "      <th>2</th>\n",
       "      <td>7436</td>\n",
       "      <td>Рекомендация</td>\n",
       "      <td>Ткань и аксессуары</td>\n",
       "      <td>С. Милер</td>\n",
       "      <td>UNIZIN COMPANY</td>\n",
       "      <td>Айсберг</td>\n",
       "      <td>Санкт-Петербург</td>\n",
       "      <td>0</td>\n",
       "      <td>500</td>\n",
       "      <td>2020-03-23</td>\n",
       "      <td>NaT</td>\n",
       "      <td>NaN</td>\n",
       "      <td>В процессе</td>\n",
       "      <td>1370</td>\n",
       "    </tr>\n",
       "    <tr>\n",
       "      <th>3</th>\n",
       "      <td>7484</td>\n",
       "      <td>Рекомендация</td>\n",
       "      <td>Ткань и аксессуары</td>\n",
       "      <td>С. Милер</td>\n",
       "      <td>NAM SUNG</td>\n",
       "      <td>Айсберг</td>\n",
       "      <td>Санкт-Петербург</td>\n",
       "      <td>500</td>\n",
       "      <td>500</td>\n",
       "      <td>2020-03-04</td>\n",
       "      <td>2020-03-04</td>\n",
       "      <td>1.0</td>\n",
       "      <td>Закрыто</td>\n",
       "      <td>1370</td>\n",
       "    </tr>\n",
       "    <tr>\n",
       "      <th>4</th>\n",
       "      <td>7040</td>\n",
       "      <td>Холодный звонок</td>\n",
       "      <td>Электронные устройства</td>\n",
       "      <td>М. Баили</td>\n",
       "      <td>Электронные устройства</td>\n",
       "      <td>Alen.com</td>\n",
       "      <td>Магнитогорск</td>\n",
       "      <td>100</td>\n",
       "      <td>1000</td>\n",
       "      <td>2020-02-19</td>\n",
       "      <td>2020-05-15</td>\n",
       "      <td>87.0</td>\n",
       "      <td>Закрыто</td>\n",
       "      <td>7680</td>\n",
       "    </tr>\n",
       "  </tbody>\n",
       "</table>\n",
       "</div>"
      ],
      "text/plain": [
       "   номер_заказа     канал_продаж     продуктовый_сегмент  менеджер  \\\n",
       "0          7290     Рекомендация      Ткань и аксессуары  С. Милер   \n",
       "1          7291     Рекомендация      Ткань и аксессуары  С. Милер   \n",
       "2          7436     Рекомендация      Ткань и аксессуары  С. Милер   \n",
       "3          7484     Рекомендация      Ткань и аксессуары  С. Милер   \n",
       "4          7040  Холодный звонок  Электронные устройства  М. Баили   \n",
       "\n",
       "          название_заказа  продавец            город  продажи_факт_тыс.руб  \\\n",
       "0                NAM SUNG  Айсберг   Санкт-Петербург                   300   \n",
       "1                CP Ткань  Айсберг   Санкт-Петербург                   450   \n",
       "2          UNIZIN COMPANY  Айсберг   Санкт-Петербург                     0   \n",
       "3                NAM SUNG  Айсберг   Санкт-Петербург                   500   \n",
       "4  Электронные устройства  Alen.com     Магнитогорск                   100   \n",
       "\n",
       "   продажи_план_тыс.руб дата_сделки дата_оплаты  дней_между_сделкой_и_оплатой  \\\n",
       "0                   500  2020-02-03  2020-03-25                          52.0   \n",
       "1                   500  2020-03-22  2020-04-05                          15.0   \n",
       "2                   500  2020-03-23         NaT                           NaN   \n",
       "3                   500  2020-03-04  2020-03-04                           1.0   \n",
       "4                  1000  2020-02-19  2020-05-15                          87.0   \n",
       "\n",
       "       статус  суммарные_фактические_продажи  \n",
       "0     Закрыто                           1370  \n",
       "1     Закрыто                           1370  \n",
       "2  В процессе                           1370  \n",
       "3     Закрыто                           1370  \n",
       "4     Закрыто                           7680  "
      ]
     },
     "execution_count": 13,
     "metadata": {},
     "output_type": "execute_result"
    }
   ],
   "source": [
    "data.head(5)"
   ]
  },
  {
   "cell_type": "markdown",
   "metadata": {},
   "source": [
    "# Исследовательский анализ данных\n",
    "\n",
    "Проведите исследовательский анализ данных\n",
    "\n",
    "Посмотрите, как менеджеры выполняют план продаж.  Какова помесячная динамика выполнения плана, есть ли сезонные «просадки»? Важны ли данные за все периоды? Посмотрите, как менялись продажи по продуктовым сегментам. Выберите сегменты с наибольшими суммарными продажами и постройте распределение по месяцам. Есть ли популярные в прошлом сегменты, у которых сейчас продажи на нуле. \n",
    "\n",
    "Какова география продаж, какие регионы самые доходные?\n",
    "\n",
    "Как влияет канал продаж на выполнение плана, конверсию, длительность сделки?\n",
    "\n",
    "Какие товарные категории пользуются спросом (по числу клиентов) и по продажам?"
   ]
  },
  {
   "cell_type": "markdown",
   "metadata": {},
   "source": [
    "1. Помесячная динамика выполнения плана. Сгруппировали таблицу по фактической прибыли и месяцу  и добавили столбец \"выполнение плана\", чтобы посмотреть, выполнен ли план по продажам в определенном месяце по прибыли (0 - не выполнен, 1 - выполнен). Из сгруппированной таблицы видно, что больше всего прибыли было получено в январе и есть просадки в апреле, июне, где продажи падают больше, чем на пятьдесят тысяч, в августе вообще не было сделок, а в остальные месяцы года продажи составляют меньше миллиона рублей. При этом план часто не выполняется, с каждым месяцем всё больше."
   ]
  },
  {
   "cell_type": "code",
   "execution_count": 28,
   "metadata": {},
   "outputs": [
    {
     "data": {
      "image/png": "[encoded data removed]",
      "text/plain": [
       "<Figure size 640x480 with 1 Axes>"
      ]
     },
     "metadata": {},
     "output_type": "display_data"
    }
   ],
   "source": [
    "import matplotlib.pyplot as plt\n",
    "data['выполнение_плана'] = data['продажи_факт_тыс.руб'] >= data['продажи_план_тыс.руб']\n",
    "data['выполнение_плана'] = data['выполнение_плана'].astype(int)\n",
    "monthly_sales = data.groupby([data['дата_сделки'].dt.month, 'выполнение_плана'])['продажи_факт_тыс.руб'].sum()\n",
    "monthly_sales.unstack().plot(kind = 'barh')\n",
    "plt.xlabel('Месяц')\n",
    "plt.ylabel('Сумма продаж, тыс. руб')\n",
    "plt.title('Сумма продаж по месяцам с учетом выполнения плана')\n",
    "plt.legend(title='Выполнение плана', labels=['Не выполнено', 'Выполнено'])\n",
    "plt.show()"
   ]
  },
  {
   "cell_type": "markdown",
   "metadata": {},
   "source": [
    "2. Продажи по продуктовым сегментам. По отсортированной таблице видно, что больше всего дохода приносит оборудование и товары из категории \"Другое\". Меньше всего - игрушки, косметика и товары категории \"Охота и рыбалка\", продажи которых вообще равны нулю."
   ]
  },
  {
   "cell_type": "code",
   "execution_count": 15,
   "metadata": {},
   "outputs": [
    {
     "data": {
      "text/plain": [
       "продуктовый_сегмент\n",
       "Оборудование              35099\n",
       "Другое                     7225\n",
       "Свет                       6950\n",
       "Ткань и аксессуары         5712\n",
       "Одежда                     4650\n",
       "Электронные устройства     2130\n",
       "Бассейн                    1500\n",
       "Сувениры                    970\n",
       "Спорт товары                750\n",
       "Автозапчасти                700\n",
       "Упаковка                    675\n",
       "Медецина                    400\n",
       "Игрушки                     250\n",
       "Косметика                   200\n",
       "Охота и рыбалка               0\n",
       "Name: продажи_факт_тыс.руб, dtype: int64"
      ]
     },
     "execution_count": 15,
     "metadata": {},
     "output_type": "execute_result"
    }
   ],
   "source": [
    "product_sales = data.groupby('продуктовый_сегмент')['продажи_факт_тыс.руб'].sum()\n",
    "product_sales.sort_values(ascending=False)"
   ]
  },
  {
   "cell_type": "markdown",
   "metadata": {},
   "source": [
    "3. Сегменты с наибольшими суммарными продажами и распределение по месяцам. Товары из категории \"Другое\" занимают лидирующие позиции в первые месяцы года, и с каждым месяцем их продают всё меньше и меньше, также как и товары из категории \"Одежда\", начиная с июня, их вообще не продают. При этом товары из категориии \"Свет\" с каждым месяцем поднимаются всё выше."
   ]
  },
  {
   "cell_type": "code",
   "execution_count": 16,
   "metadata": {},
   "outputs": [],
   "source": [
    "top_segments = product_sales.nlargest(5)"
   ]
  },
  {
   "cell_type": "code",
   "execution_count": 17,
   "metadata": {},
   "outputs": [],
   "source": [
    "top_segments_sales = data[data['продуктовый_сегмент'].isin(top_segments .index)]\n",
    "monthly_sales_top_segments = top_segments_sales.groupby([top_segments_sales['дата_оплаты'].dt.month, 'продуктовый_сегмент'])['продажи_факт_тыс.руб'].sum()"
   ]
  },
  {
   "cell_type": "code",
   "execution_count": 18,
   "metadata": {},
   "outputs": [
    {
     "data": {
      "text/plain": [
       "дата_оплаты  продуктовый_сегмент\n",
       "1.0          Одежда                  3900\n",
       "             Другое                  1250\n",
       "             Оборудование            1090\n",
       "             Ткань и аксессуары       760\n",
       "2.0          Оборудование            6114\n",
       "             Другое                  4525\n",
       "             Свет                     200\n",
       "             Ткань и аксессуары       180\n",
       "3.0          Оборудование            5560\n",
       "             Свет                    4300\n",
       "             Ткань и аксессуары      2780\n",
       "             Одежда                   300\n",
       "             Другое                   250\n",
       "4.0          Оборудование            5055\n",
       "             Другое                  1200\n",
       "             Ткань и аксессуары      1062\n",
       "             Свет                     700\n",
       "5.0          Свет                    1750\n",
       "             Ткань и аксессуары       930\n",
       "             Одежда                   450\n",
       "6.0          Оборудование           17280\n",
       "Name: продажи_факт_тыс.руб, dtype: int64"
      ]
     },
     "execution_count": 18,
     "metadata": {},
     "output_type": "execute_result"
    }
   ],
   "source": [
    "monthly_sales_top_segments_sorted = monthly_sales_top_segments.groupby(level=0, group_keys=False).apply(lambda x: x.sort_values(ascending=False))\n",
    "monthly_sales_top_segments_sorted"
   ]
  },
  {
   "cell_type": "markdown",
   "metadata": {},
   "source": [
    "4. География продаж. Больше всего продаж в городах Челябинск и Казань, а в Севастопале, Ставрополе, Липецке и Ярославле продажи равны нулю. "
   ]
  },
  {
   "cell_type": "code",
   "execution_count": 19,
   "metadata": {},
   "outputs": [
    {
     "data": {
      "text/plain": [
       "город\n",
       "Челябинск          8700\n",
       "Казань             8040\n",
       "Магнитогорск       7680\n",
       "Сочи               6950\n",
       "Новосибирск        5725\n",
       "Самара             5574\n",
       "Уфа                4350\n",
       "Волгоград          4250\n",
       "Москва             3717\n",
       "Оренбург           2750\n",
       "Тула               1850\n",
       "Нижний Новгород    1635\n",
       "Кемерово           1500\n",
       "Санкт-Петербург    1370\n",
       "Улан-Удэ            970\n",
       "Пермь               770\n",
       "Курск               700\n",
       "Саратов             430\n",
       "Омск                250\n",
       "Севастополь           0\n",
       "Стоврополь            0\n",
       "Липецк                0\n",
       "Ярославль             0\n",
       "Name: продажи_факт_тыс.руб, dtype: int64"
      ]
     },
     "execution_count": 19,
     "metadata": {},
     "output_type": "execute_result"
    }
   ],
   "source": [
    "city_sales = data.groupby('город')['продажи_факт_тыс.руб'].sum().sort_values(ascending=False)\n",
    "city_sales"
   ]
  },
  {
   "cell_type": "markdown",
   "metadata": {},
   "source": [
    "5. Сравнение выполнение плана по каналам продаж. Больше всего выполнению плана соответствуют каналы \"Холодный звонок\" и \"Рекомендация\". С небольшим отрывом выполняют планы по каналам \"Выставка и \"Почта\", по каналам \"Вебсайт\" и \"Контекстная реклама\" вообще планы не выполняются. Канал \"Рекомендация\" имеет конверсию выше 1, что может означать, что в этом канале фактические продажи превышают плановые. Каналы \"Почта\", \"Вебсайт\", \"Контекстная реклама\" имеют более низкую конверсию. Канал \"Почта\" и \"Холодный звонок\" имеют более высокие средние длительности сделки - 57 и 44 дня соответственно, канал \"Выставка\" имеет одну из самых низких средних длительностей сделки - примерно 9 дней. "
   ]
  },
  {
   "cell_type": "code",
   "execution_count": 20,
   "metadata": {},
   "outputs": [
    {
     "data": {
      "text/plain": [
       "канал_продаж\n",
       "Холодный звонок        0.363636\n",
       "Рекомендация           0.343750\n",
       "Выставка               0.277778\n",
       "Почта                  0.250000\n",
       "Вебсайт                0.000000\n",
       "Контекстная реклама    0.000000\n",
       "Name: выполнение_плана, dtype: float64"
      ]
     },
     "execution_count": 20,
     "metadata": {},
     "output_type": "execute_result"
    }
   ],
   "source": [
    "plan_completion_by_channel = data.groupby('канал_продаж')['выполнение_плана'].mean().sort_values(ascending=False)\n",
    "plan_completion_by_channel"
   ]
  },
  {
   "cell_type": "code",
   "execution_count": 21,
   "metadata": {},
   "outputs": [
    {
     "name": "stderr",
     "output_type": "stream",
     "text": [
      "C:\\Users\\konst\\AppData\\Local\\Temp\\ipykernel_9680\\188204090.py:1: DeprecationWarning: DataFrameGroupBy.apply operated on the grouping columns. This behavior is deprecated, and in a future version of pandas the grouping columns will be excluded from the operation. Either pass `include_groups=False` to exclude the groupings or explicitly select the grouping columns after groupby to silence this warning.\n",
      "  conversion_by_channel = data.groupby('канал_продаж').apply(lambda x: x['продажи_факт_тыс.руб'].sum() / x['продажи_план_тыс.руб'].sum()).sort_values(ascending=False)\n"
     ]
    },
    {
     "data": {
      "text/plain": [
       "канал_продаж\n",
       "Рекомендация           1.060882\n",
       "Выставка               0.806873\n",
       "Холодный звонок        0.806769\n",
       "Почта                  0.442857\n",
       "Вебсайт                0.400000\n",
       "Контекстная реклама    0.350000\n",
       "dtype: float64"
      ]
     },
     "execution_count": 21,
     "metadata": {},
     "output_type": "execute_result"
    }
   ],
   "source": [
    "conversion_by_channel = data.groupby('канал_продаж').apply(lambda x: x['продажи_факт_тыс.руб'].sum() / x['продажи_план_тыс.руб'].sum()).sort_values(ascending=False)\n",
    "conversion_by_channel\n"
   ]
  },
  {
   "cell_type": "code",
   "execution_count": 22,
   "metadata": {},
   "outputs": [
    {
     "data": {
      "text/plain": [
       "канал_продаж\n",
       "Почта                  57.000000\n",
       "Холодный звонок        44.033333\n",
       "Контекстная реклама    29.800000\n",
       "Рекомендация           26.440000\n",
       "Вебсайт                20.000000\n",
       "Выставка                9.214286\n",
       "Name: дней_между_сделкой_и_оплатой, dtype: float64"
      ]
     },
     "execution_count": 22,
     "metadata": {},
     "output_type": "execute_result"
    }
   ],
   "source": [
    "deal_duration_by_channel = data.groupby('канал_продаж')['дней_между_сделкой_и_оплатой'].mean().sort_values(ascending=False)\n",
    "deal_duration_by_channel"
   ]
  },
  {
   "cell_type": "markdown",
   "metadata": {},
   "source": [
    "# Общий вывод\n",
    "На основании исследовательского анализа сделайте вывод относительно того, что стоит ли\n",
    " - Профилировать ли менеджеров по товарным категориям или каналам продаж (где они лучше закрывают сделки, выполняют план)\n",
    " - Расширять самые доходные каналы продаж, регионы, где есть высокий спрос"
   ]
  },
  {
   "cell_type": "markdown",
   "metadata": {},
   "source": [
    "Рекомендуется профилировать менеджеров по товарам и каналам продаж, где они показывают лучшие результаты. Например, если менеджер успешно закрывает сделки по категории \"Оборудование\" или через канал \"Холодный звонок\", то стоит уделить им больше задач в этих областях, такая стратегия может быть более эффективна с точки зрения прибыли и быстрого завершения сделок.\n",
    "Следует рассмотреть возможность расширения деятельности в наиболее доходных каналах продаж, таких как \"Холодный звонок\" и \"Рекомендация\", где планы чаще всего выполняются.\n",
    "Также стоит обратить внимание на регионы с высоким спросом, такие как Челябинск и Казань, и рассмотреть возможность увеличения доли продаж в этих городах.\n"
   ]
  }
 ],
 "metadata": {
  "kernelspec": {
   "display_name": "Python 3",
   "language": "python",
   "name": "python3"
  },
  "language_info": {
   "codemirror_mode": {
    "name": "ipython",
    "version": 3
   },
   "file_extension": ".py",
   "mimetype": "text/x-python",
   "name": "python",
   "nbconvert_exporter": "python",
   "pygments_lexer": "ipython3",
   "version": "3.11.9"
  }
 },
 "nbformat": 4,
 "nbformat_minor": 4
}
